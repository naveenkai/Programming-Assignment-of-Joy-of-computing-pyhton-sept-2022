{
  "nbformat": 4,
  "nbformat_minor": 0,
  "metadata": {
    "colab": {
      "provenance": [],
      "authorship_tag": "ABX9TyN2X/qwhlMMpPBCZyTORd8P",
      "include_colab_link": true
    },
    "kernelspec": {
      "name": "python3",
      "display_name": "Python 3"
    },
    "language_info": {
      "name": "python"
    }
  },
  "cells": [
    {
      "cell_type": "markdown",
      "metadata": {
        "id": "view-in-github",
        "colab_type": "text"
      },
      "source": [
        "<a href=\"https://colab.research.google.com/github/thenameiswin/Assignment-work-of-Joy-of-computing-pyhton-sept-2022/blob/main/nptel_programming_assignment.ipynb\" target=\"_parent\"><img src=\"https://colab.research.google.com/assets/colab-badge.svg\" alt=\"Open In Colab\"/></a>"
      ]
    },
    {
      "cell_type": "markdown",
      "source": [
        "## Week 2 \n"
      ],
      "metadata": {
        "id": "B8vRcoq92WK6"
      }
    },
    {
      "cell_type": "code",
      "source": [
        "## Write a program to take an input from the user and print that input"
      ],
      "metadata": {
        "id": "z9iQ4Fcr2l2S"
      },
      "execution_count": null,
      "outputs": []
    },
    {
      "cell_type": "code",
      "source": [
        "a = input()\n",
        "print(a, end=\"\")"
      ],
      "metadata": {
        "id": "s1PMV-ts3SRV"
      },
      "execution_count": null,
      "outputs": []
    },
    {
      "cell_type": "code",
      "source": [
        "## Write a program to take an input of two numbers A, and B and print the difference A-B"
      ],
      "metadata": {
        "id": "1133fBhA3WpL"
      },
      "execution_count": null,
      "outputs": []
    },
    {
      "cell_type": "code",
      "source": [
        "A = int(input())\n",
        "B = int(input())\n",
        "\n",
        "Z = A - B\n",
        "\n",
        "print(Z,end=\"\")"
      ],
      "metadata": {
        "id": "fmWiSyIS3u4l"
      },
      "execution_count": null,
      "outputs": []
    },
    {
      "cell_type": "code",
      "source": [
        "## Take a string S and an integer A as an input from a user. Write a program to print string S, A number of times.\n",
        "\n",
        "# Input\n",
        "# S: A string\n",
        "# A: An integer"
      ],
      "metadata": {
        "id": "78uH4D-X30Ix"
      },
      "execution_count": null,
      "outputs": []
    },
    {
      "cell_type": "code",
      "source": [
        "S = input()\n",
        "A = int(input())\n",
        "\n",
        "for i in range(1,A+1):\n",
        "\tprint(S)"
      ],
      "metadata": {
        "id": "qtjAmkit4SFj"
      },
      "execution_count": null,
      "outputs": []
    },
    {
      "cell_type": "markdown",
      "source": [
        "### Week *3*"
      ],
      "metadata": {
        "id": "QGec2zztpi5Z"
      }
    },
    {
      "cell_type": "code",
      "source": [
        "## There is list L containing some numbers. Write a program to create a new list which contains the numbers which are either\n",
        "## divisible by 5 or 7 or both. Print that new list in ascending order."
      ],
      "metadata": {
        "id": "agHr0cpA4s3O"
      },
      "execution_count": null,
      "outputs": []
    },
    {
      "cell_type": "code",
      "source": [
        "L = [int(i) for i in input().split()]\n",
        "ans = [ z for z in L if z%5==0 or z%7==0]\n",
        "print(sorted(ans),end=\"\")"
      ],
      "metadata": {
        "id": "VxnY6gkp4zqY",
        "colab": {
          "base_uri": "https://localhost:8080/"
        },
        "outputId": "b1d6d8e0-e0a5-4375-84b4-da751e6e651c"
      },
      "execution_count": null,
      "outputs": [
        {
          "output_type": "stream",
          "name": "stdout",
          "text": [
            "64 7883 8938 9838 20 74 56 50\n",
            "[20, 50, 56]"
          ]
        }
      ]
    },
    {
      "cell_type": "code",
      "source": [
        "## Write a function rev which takes a list L and integer n and print the first n largest numbers of the list.\n",
        "\n",
        "## Input is managed for you, please write the required function only."
      ],
      "metadata": {
        "id": "s-7PK48Z45wr"
      },
      "execution_count": null,
      "outputs": []
    },
    {
      "cell_type": "code",
      "source": [
        "def rev(L,n):\n",
        "  print(sorted(L)[::-1][:n],end=\"\")"
      ],
      "metadata": {
        "id": "21K9NKJD5LGE"
      },
      "execution_count": null,
      "outputs": []
    },
    {
      "cell_type": "code",
      "source": [
        "## Write a program to count and print the number of odd numbers in a list L"
      ],
      "metadata": {
        "id": "hQtYQVPX5QIH"
      },
      "execution_count": null,
      "outputs": []
    },
    {
      "cell_type": "code",
      "source": [
        "L = [int(i) for i in input().split()]\n",
        "odd=[a for a in L if a%2!=0]\n",
        "print(len(odd),end=\"\")"
      ],
      "metadata": {
        "id": "9T7CZTKE5YTM"
      },
      "execution_count": null,
      "outputs": []
    },
    {
      "cell_type": "markdown",
      "source": [
        "## Week 4"
      ],
      "metadata": {
        "id": "Qmta3gsGpx3m"
      }
    },
    {
      "cell_type": "code",
      "source": [
        "## Take two numbers N and K as an input. Create a list L of length N and initialize it with zeros. \n",
        "## Change the value to 1 of even indexes if k is even, otherwise change the value of odd indexes. Print list L in the end.(Consider 0 as even)\n"
      ],
      "metadata": {
        "id": "c1751iUR5eHu"
      },
      "execution_count": null,
      "outputs": []
    },
    {
      "cell_type": "code",
      "source": [
        "N=int(input())\n",
        "K=int(input())\n",
        "L=[]\n",
        "if K%2!=0:\n",
        "  for x in range(N):\n",
        "    if x%2==0:\n",
        "      L.append(0)\n",
        "    else:\n",
        "      L.append(1)\n",
        "else:\n",
        "  for x in range(N):\n",
        "    if x%2!=0:\n",
        "        L.append(0)\n",
        "    else:\n",
        "        L.append(1)\n",
        "print(L,end=\"\")"
      ],
      "metadata": {
        "id": "lLpGrVFq5suc"
      },
      "execution_count": 1,
      "outputs": []
    },
    {
      "cell_type": "code",
      "source": [
        "## Write a program to take string S as an input and replace all vowels by *. Also print the modified string.\n"
      ],
      "metadata": {
        "id": "ywxS3z7u5vkW"
      },
      "execution_count": null,
      "outputs": []
    },
    {
      "cell_type": "code",
      "source": [
        "S=input()\n",
        "v=list('aeiou')\n",
        "a=\"\"\n",
        "for i in S:\n",
        "  if  i.lower() in v:\n",
        "    a=a+'*'N=int(input())\n",
        "for i in range(N):\n",
        "    for j in range(i+1):\n",
        "         print('* ',end=\"\")\n",
        "    print()\n",
        "for i in range(N-1,0,-1):\n",
        "    for j in range(i):\n",
        "        print(\"* \",end=\"\")\n",
        "    if j!=0:\n",
        "        print()\n",
        "  else:\n",
        "    a=a+i\n",
        "print(a,end=\"\")"
      ],
      "metadata": {
        "id": "9thRTCHw56Mz"
      },
      "execution_count": null,
      "outputs": []
    },
    {
      "cell_type": "code",
      "source": [
        "## Write a program to take an integer N as an input and display the pattern"
      ],
      "metadata": {
        "id": "2r9Irj-P584o"
      },
      "execution_count": null,
      "outputs": []
    },
    {
      "cell_type": "code",
      "source": [
        "N=int(input())\n",
        "for i in range(N):\n",
        "    for j in range(i+1):\n",
        "         print('* ',end=\"\")\n",
        "    print()\n",
        "for i in range(N-1,0,-1):\n",
        "    for j in range(i):\n",
        "        print(\"* \",end=\"\")\n",
        "    if j!=0:\n",
        "        print()"
      ],
      "metadata": {
        "id": "PdN2foJS6FiE"
      },
      "execution_count": null,
      "outputs": []
    },
    {
      "cell_type": "markdown",
      "source": [
        "## Week 5"
      ],
      "metadata": {
        "id": "Tq_t4NX6p4HA"
      }
    },
    {
      "cell_type": "code",
      "source": [
        "## You are given a string S. Write a function count_letters which accepts the string S and returns a dictionary\n",
        "## containing letters (including special character) in string S as keys and their count in string S as values."
      ],
      "metadata": {
        "id": "cs0wItLl6RKx"
      },
      "execution_count": null,
      "outputs": []
    },
    {
      "cell_type": "code",
      "source": [
        "def count_letters(string):\n",
        "  d={}\n",
        "  for s in string:\n",
        "    if s not in d:\n",
        "      d[s]=string.count(s)\n",
        "  return(d)\n",
        "  \n",
        "if __name__ == \"__main__\":\n",
        "    S = input()\n",
        "    d = count_letters(S)\n",
        "\n",
        "d1 = {}\n",
        "for i in S:\n",
        "    try:\n",
        "        d1[i]+=1\n",
        "    except KeyError:\n",
        "        d1[i]=1\n",
        "if d1 == d:\n",
        "    print(d1)\n",
        "else:\n",
        "    print('no')"
      ],
      "metadata": {
        "id": "u-OjnMGb6Y9N"
      },
      "execution_count": null,
      "outputs": []
    },
    {
      "cell_type": "code",
      "source": [
        "## You are given a list L. Write a function uniqueE which will return a list of unique elements is the list L in sorted order.\n",
        "## (Unique element means it should appear in list L only once.)"
      ],
      "metadata": {
        "id": "TdYuEW6P6dBQ"
      },
      "execution_count": null,
      "outputs": []
    },
    {
      "cell_type": "code",
      "source": [
        "def uniqueE(L):\n",
        "  ans=[]\n",
        "  for a in L:\n",
        "    if L.count(a)==1:\n",
        "      ans.append(a)\n",
        "  return(sorted(ans))\n",
        "    \n",
        "L = [int(i) for i in input().split()]\n",
        "print(uniqueE(L))"
      ],
      "metadata": {
        "id": "PbcLIWV66iH3"
      },
      "execution_count": null,
      "outputs": []
    },
    {
      "cell_type": "code",
      "source": [
        "## You are given a list L. Write a program to print first prime number encountered in the list L.(Treat numbers below and equal to 1 as non prime)"
      ],
      "metadata": {
        "id": "lFg7bwCh6lxG"
      },
      "execution_count": null,
      "outputs": []
    },
    {
      "cell_type": "code",
      "source": [
        "L = [int(i) for i in input().split()]\n",
        "prime_numbers=[2, 3, 5, 7, 11, 13, 17, 19, 23, 29, 31, 37, 41, 43, 47,\n",
        "               53, 59, 61, 67, 71, 73, 79, 83, 89, 97, 101, 103, 107, 109,\n",
        "               113, 127, 131, 137, 139, 149, 151, 157, 163, 167, 173, 179, 181, 191, 193, 197,\n",
        "               199, 211, 223, 227, 229, 233, 239, 241, 251, 257, 263, 269, 271, 277, 281, 283, 293]\n",
        "for a in L:\n",
        "  if a in prime_numbers:\n",
        "    print(a,end=\"\")\n",
        "    break"
      ],
      "metadata": {
        "id": "6Gx7_wWc6qzi"
      },
      "execution_count": null,
      "outputs": []
    },
    {
      "cell_type": "markdown",
      "source": [
        "## Week 6"
      ],
      "metadata": {
        "id": "HahPkZXMp9Iz"
      }
    },
    {
      "cell_type": "code",
      "source": [
        "## Given a list L containing integers, write a program that creates and prints a dictionary 'd' containing all the the numbers that occur twice or more in the list as keys and their indexes as values. Both the keys are and their values should be in the same order as given the list.\n"
      ],
      "metadata": {
        "id": "8CIXhy1l6zsV"
      },
      "execution_count": null,
      "outputs": []
    },
    {
      "cell_type": "code",
      "source": [
        "inputList = list(map(int,input().split()))\n",
        "\n",
        "dict = {}\n",
        "\n",
        "for i in inputList:\n",
        "  dict[i] = []\n",
        "\n",
        "i=0\n",
        "for j in inputList:\n",
        "  dict[j].append(i)\n",
        "  i+=1\n",
        "\n",
        "res_dict={}\n",
        "\n",
        "for key,val in dict.items():\n",
        "  if len(val) >= 2:\n",
        "    res_dict[key]=val\n",
        "\n",
        "print(res_dict,end=\"\")"
      ],
      "metadata": {
        "id": "5FUpD-rK65V9"
      },
      "execution_count": null,
      "outputs": []
    },
    {
      "cell_type": "code",
      "source": [
        "## Romeo and Juliet love each other. Romeo wants to send a message to Juliet and also don't want anyone to read it without his permission. So he shifted every small letter in the sentence by -2 position and every capital letter by -3 position. (If the letter is c, after shifting to by -2 position it changes to a, and for D new letter will be A).\n",
        "## But the letter is too long and Romeo does not have enough time to encrypt his whole letter. Write a program to help Romeo which prints the encrypted message. You can assume there are no special characters except spaces and numeric value.\n"
      ],
      "metadata": {
        "id": "50oOOFQk6_pQ"
      },
      "execution_count": null,
      "outputs": []
    },
    {
      "cell_type": "code",
      "source": [
        "S = input()\n",
        "import string\n",
        "\n",
        "\n",
        "low = string.ascii_lowercase\n",
        "cap = string.ascii_uppercase\n",
        "\n",
        "ans  = ''\n",
        "\n",
        "for i in S:\n",
        "    if i in low:\n",
        "        index = low.index(i)\n",
        "        # 1-2 = -1+26 = 25\n",
        "        index = ((index-2)+26)%26\n",
        "        ans+=low[index]\n",
        "    elif i in cap:\n",
        "        index = cap.index(i)\n",
        "        # 1-2 = -1+26 = 25\n",
        "        index = ((index-3)+26)%26\n",
        "        ans+=cap[index]\n",
        "    else:\n",
        "        ans+=i\n",
        "\n",
        "print(ans,end=\"\")"
      ],
      "metadata": {
        "id": "XVxaezBK7KnL"
      },
      "execution_count": null,
      "outputs": []
    },
    {
      "cell_type": "code",
      "source": [
        "## Take a string S as an input and print 'palindrome' if string S is a palindrome or 'not palindrome' if string S is not a palindrome.\n",
        "## A palindrome is a word which spells same from forward and backward. Example DAD.\n"
      ],
      "metadata": {
        "id": "njgZsTRZ7O4w"
      },
      "execution_count": null,
      "outputs": []
    },
    {
      "cell_type": "code",
      "source": [
        "inputString = input()\n",
        "\n",
        "inputString=inputString.lower()\n",
        "\n",
        "if inputString[::-1]==inputString:\n",
        "  print('palindrome',end=\"\")\n",
        "\n",
        "elif inputString[::-1]!=inputString:\n",
        "  print('not palindrome',end=\"\")"
      ],
      "metadata": {
        "id": "qmESmX1u7c6P"
      },
      "execution_count": null,
      "outputs": []
    },
    {
      "cell_type": "markdown",
      "source": [
        "## Week 7"
      ],
      "metadata": {
        "id": "xUuqNMOaqFUM"
      }
    },
    {
      "cell_type": "code",
      "source": [
        "## Given a sqaure matrix M, write a function DiagCalc which calculate the sum of left and right diagonals and print it respectively.(input will be handled by us)"
      ],
      "metadata": {
        "id": "4MMCs_av7nJ4"
      },
      "execution_count": null,
      "outputs": []
    },
    {
      "cell_type": "code",
      "source": [
        "def DiagCalc(M):\n",
        "    countL = 0\n",
        "    countR = 0\n",
        "    for i in range(len(M)):\n",
        "        countL += M[i][i]\n",
        "        countR += M[i][-1 - i]\n",
        "\n",
        "    print(countL)\n",
        "    print(countR,end=\"\")\n",
        "\n",
        "n = int(input())\n",
        "M = []\n",
        "for i in range(n):\n",
        "    L = list(map(int, input().split()))\n",
        "    M.append(L)\n",
        "\n",
        "DiagCalc(M)\n",
        "n = int(input())\n",
        "M = []\n",
        "for i in range(n):\n",
        "    L = list(map(int, input().split()))\n",
        "    M.append(L)\n",
        "\n",
        "DiagCalc(M)"
      ],
      "metadata": {
        "id": "qYjUEoUn7u6Y"
      },
      "execution_count": null,
      "outputs": []
    },
    {
      "cell_type": "code",
      "source": [
        "##Given a matrix M of MxN write a function Transpose which accepts a matrix M and return the transpose of M.\n",
        "##Transpose of a matrix is a matrix in which each row is changed to a column or vice versa."
      ],
      "metadata": {
        "id": "vpRRPN7u7yz-"
      },
      "execution_count": null,
      "outputs": []
    },
    {
      "cell_type": "code",
      "source": [
        "def Transpose(M):\n",
        "    rowlen = len(M)\n",
        "    collen = len(M[0])\n",
        "    ans  = [[] for i in range(collen)]\n",
        "    for i in range(collen):\n",
        "        for j in range(rowlen):\n",
        "            ans[i].append(M[j][i])\n",
        "    return ans\n",
        "\n",
        "n = int(input())\n",
        "M = []\n",
        "for i in range(n):\n",
        "    L = list(map(int, input().split()))\n",
        "    M.append(L)\n",
        "print(Transpose(M))\n",
        "n = int(input())\n",
        "M = []\n",
        "for i in range(n):\n",
        "    L = list(map(int, input().split()))\n",
        "    M.append(L)\n",
        "print(Transpose(M))"
      ],
      "metadata": {
        "id": "yGFD2UYG75U7"
      },
      "execution_count": null,
      "outputs": []
    },
    {
      "cell_type": "code",
      "source": [
        "### Given a matrix M of MxN write a function snake that accepts a matrix M and returns a list which contain elements in snake pattern of matrix M. (See explanation to know what is snake pattern)"
      ],
      "metadata": {
        "id": "DwPa8TnV8Gkk"
      },
      "execution_count": null,
      "outputs": []
    },
    {
      "cell_type": "code",
      "source": [
        "def snake(M):\n",
        "    rowlen = len(M)\n",
        "    collen = len(M[0])\n",
        "    ans  = []\n",
        "\n",
        "    for i in range(rowlen):\n",
        "        if i%2 == 0:\n",
        "            for j in M[i]:\n",
        "                ans.append(j)\n",
        "        else:\n",
        "            l = M[i]\n",
        "            for j in range(-1, -collen-1, -1):\n",
        "                ans.append(l[j])\n",
        "    return ans\n",
        "\n",
        "n = int(input())\n",
        "M = []\n",
        "for i in range(n):\n",
        "    L = list(map(int, input().split()))\n",
        "    M.append(L)\n",
        "\n",
        "print(snake(M))\n",
        "n = int(input())\n",
        "M = []\n",
        "for i in range(n):\n",
        "    L = list(map(int, input().split()))\n",
        "    M.append(L)\n",
        "\n",
        "print(snake(M))"
      ],
      "metadata": {
        "id": "GM8pw8Jr9F9v"
      },
      "execution_count": null,
      "outputs": []
    },
    {
      "cell_type": "markdown",
      "source": [
        "## Week 8"
      ],
      "metadata": {
        "id": "Ik6H-0whqNA3"
      }
    },
    {
      "cell_type": "code",
      "source": [
        "##Write a function cubeT that accepts a list L and returns a tuple containing cubes of elements of L.\n"
      ],
      "metadata": {
        "id": "n-Ean4tT9Saz"
      },
      "execution_count": null,
      "outputs": []
    },
    {
      "cell_type": "code",
      "source": [
        "def cubeT(l):\n",
        "  res = tuple([pow(i, 3) for i in l])\n",
        "  return res\n",
        "\n",
        "L = [int(i) for i in input().split()]\n",
        "print(cubeT(L))\n",
        "L = [int(i) for i in input().split()]\n",
        "print(cubeT(L))"
      ],
      "metadata": {
        "id": "EeXX5c589fL2"
      },
      "execution_count": null,
      "outputs": []
    },
    {
      "cell_type": "code",
      "source": [
        "## Given a string S, write a function replaceV that accepts a string and replace the occurrences of 3 consecutive vowels with _ in that string. Make sure to return the answer string."
      ],
      "metadata": {
        "id": "Q6lg2kL_9i20"
      },
      "execution_count": null,
      "outputs": []
    },
    {
      "cell_type": "code",
      "source": [
        "def isvowel(ch):\n",
        "    v = 'AEIOUaeiou'\n",
        "    if ch in v:\n",
        "        return True\n",
        "    else:\n",
        "        return False\n",
        "\n",
        "def replaceV(s):\n",
        "    n = len(s)\n",
        "    ans = ''\n",
        "    i=0\n",
        "    while(i<n-2):\n",
        "        if isvowel(s[i]) and isvowel(s[i+1]) and isvowel(s[i+2]):\n",
        "            ans = ans+'_'\n",
        "            i = i+3\n",
        "        else:\n",
        "            ans = ans+s[i]\n",
        "            i = i+1\n",
        "    return ans+s[i:]\n",
        "\n",
        "S = input()\n",
        "print(replaceV(S))\n",
        "S = input()\n",
        "print(replaceV(S))"
      ],
      "metadata": {
        "id": "14JYTt2j9yif"
      },
      "execution_count": null,
      "outputs": []
    },
    {
      "cell_type": "code",
      "source": [
        "## Given a list L, write a program to shift all zeroes in list L towards the right by maintaining the order of the list. Also print the new list."
      ],
      "metadata": {
        "id": "4lAKS3mI92wg"
      },
      "execution_count": null,
      "outputs": []
    },
    {
      "cell_type": "code",
      "source": [
        "L = list(map(int, input().split()))\n",
        "\n",
        "zeroes = L.count(0)\n",
        "i = 0\n",
        "while i < len(L)-zeroes:\n",
        "    if L[i] == 0:\n",
        "        L.pop(i)\n",
        "        L.append(0)\n",
        "        i -= 1\n",
        "    i += 1\n",
        "print(L,end=\"\")"
      ],
      "metadata": {
        "id": "HvMLq5NH9-3l"
      },
      "execution_count": null,
      "outputs": []
    },
    {
      "cell_type": "markdown",
      "source": [
        "## week 9"
      ],
      "metadata": {
        "id": "nJxDju2jrHYI"
      }
    },
    {
      "cell_type": "code",
      "source": [
        "## Given two strings s1 and s2, write a function subStr that accepts two strings s1 and s2 and will return True if a s2 is a substring of s1 otherwise return False. A substring is a is a contiguous sequence of characters within a string. "
      ],
      "metadata": {
        "id": "45Bqjpvl-Ha7"
      },
      "execution_count": null,
      "outputs": []
    },
    {
      "cell_type": "code",
      "source": [
        "def subStr(s1,s2):\n",
        "  return(s2 in s1)"
      ],
      "metadata": {
        "id": "ut1OOcYa-M7X"
      },
      "execution_count": null,
      "outputs": []
    },
    {
      "cell_type": "code",
      "source": [
        "## Given two dictionaries d1 and d2, write a function mergeDic that accepts two dictionaries d1 and d2 and return a new dictionary by merging d1 and d2. \n",
        "## Note: Contents of d1 should be appear before contents of d2 in the new dictionary and in same order. In case of duplicate value retain the value present in d1."
      ],
      "metadata": {
        "id": "WfET2Q5P-QJG"
      },
      "execution_count": null,
      "outputs": []
    },
    {
      "cell_type": "code",
      "source": [
        "def mergeDic(d1,d2):\n",
        "  D={}\n",
        "  for k in d1:\n",
        "    if k in list(d2.keys()):\n",
        "      d2.pop(k)\n",
        "  for d in d1:\n",
        "    D[d]=d1[d]\n",
        "  for d in d2:\n",
        "    D[d]=d2[d]  \n",
        "  return(D)    \n",
        "    \n",
        "key = list(map(int, input().split()))\n",
        "val = list(map(int, input().split()))\n",
        "\n",
        "d1 = {}\n",
        "for i in range(len(key)):\n",
        "    d1[key[i]] = val[i]\n",
        "    \n",
        "d2 = {}\n",
        "key = list(map(int, input().split()))\n",
        "val = list(map(int, input().split()))\n",
        "for i in range(len(key)):\n",
        "    d2[key[i]] = val[i]\n",
        "\n",
        "print(mergeDic(d1, d2))"
      ],
      "metadata": {
        "id": "7AYDfffu-tdX"
      },
      "execution_count": null,
      "outputs": []
    },
    {
      "cell_type": "code",
      "source": [
        "## Given an integer n, print all the indexes of numbers in that integer from left to right.\n",
        "\n"
      ],
      "metadata": {
        "id": "ugdt9Bwo-y3a"
      },
      "execution_count": null,
      "outputs": []
    },
    {
      "cell_type": "code",
      "source": [
        "n = int(input())\n",
        "d={}\n",
        "n=str(n)\n",
        "for i in range(len(n)):\n",
        "  if int(n[i]) not in d:\n",
        "    d[int(n[i])]=[i]\n",
        "  else:\n",
        "    d[int(n[i])].append(i)\n",
        "for k in d:\n",
        "  print(k,*d[k],\"\")"
      ],
      "metadata": {
        "id": "rRmgXszL-8Qk"
      },
      "execution_count": null,
      "outputs": []
    },
    {
      "cell_type": "markdown",
      "source": [
        "## Week 10"
      ],
      "metadata": {
        "id": "GNV709HErOST"
      }
    },
    {
      "cell_type": "code",
      "source": [
        "## Given a list L, write a program to make a new list to fix the indexes of numbers in the list L to its same value in the new list. Put 0 at remaining indexes. Also print the elements of the new list in the single line. (See explanation for more clarity.)"
      ],
      "metadata": {
        "id": "sgObmbw5_Eri"
      },
      "execution_count": null,
      "outputs": []
    },
    {
      "cell_type": "code",
      "source": [
        "SL=sorted(list(set(L)))\n",
        "IL=[0]*(max(SL)+1)\n",
        "for i in range(len(SL)):\n",
        "  IL[SL[i]]=SL[i]\n",
        "print(*IL,end=\"\")"
      ],
      "metadata": {
        "id": "U0dW8WGI_KYI"
      },
      "execution_count": null,
      "outputs": []
    },
    {
      "cell_type": "code",
      "source": [
        "## Ram shifted to a new place recently. There are multiple schools near his locality. Given the co-ordinates of Ram P(X,Y) and schools near his locality are given in a nested list, find the closest school. Print multiple coordinates in respective order if there exist multiple schools closest to him. Write a function closestSchool that accepts (X ,Y , L) where X and Y are co-ordinates of Ram's house and L contains co-ordinates of different school.\n"
      ],
      "metadata": {
        "id": "XUl_oUE5_OOK"
      },
      "execution_count": null,
      "outputs": []
    },
    {
      "cell_type": "code",
      "source": [
        "def closestSchool(x, y, L):\n",
        "  min=99999\n",
        "  distance=[]\n",
        "  for i in L: \n",
        "    dis=((x-i[0])*2+(y-i[1])2)*0.5\n",
        "    distance.append(dis)\n",
        "    if dis<min:\n",
        "      min=dis \n",
        "  for i in range(len(distance)):\n",
        "    if distance[i]==min:\n",
        "        print(L[i])"
      ],
      "metadata": {
        "id": "TCOk8Vhy_cSQ"
      },
      "execution_count": null,
      "outputs": []
    },
    {
      "cell_type": "code",
      "source": [
        "## Due on 2022-10-06, 23:59 IST\n",
        "## Given a string s write a program to convert uppercase letters into lowercase and lowercase letters into uppercase. Also print the resultant string"
      ],
      "metadata": {
        "id": "I-t8CuBY_hdx"
      },
      "execution_count": null,
      "outputs": []
    },
    {
      "cell_type": "code",
      "source": [
        "print(input().swapcase(),end=\"\")"
      ],
      "metadata": {
        "id": "8oo8YvBt_mvQ"
      },
      "execution_count": null,
      "outputs": []
    },
    {
      "cell_type": "markdown",
      "source": [
        "## Week 11"
      ],
      "metadata": {
        "id": "DjThfBA4razs"
      }
    },
    {
      "cell_type": "code",
      "source": [
        "## Take 3 sides of a triangle as an input and find whether that triangle is a right angled triangle or not. Print 'YES' if a triangle is right angled triangle or 'NO' if it's not."
      ],
      "metadata": {
        "id": "hdjxkSIS_y5T"
      },
      "execution_count": null,
      "outputs": []
    },
    {
      "cell_type": "code",
      "source": [
        "a=int(input())\n",
        "b=int(input())\n",
        "c=int(input())\n",
        "L=[a,b,c]\n",
        "h=max(L)\n",
        "L.remove(h)\n",
        "if h**2==L[0]**2+L[1]**2:\n",
        "  print(\"YES\",end=\"\")\n",
        "else:\n",
        "  print(\"NO\",end=\"\")"
      ],
      "metadata": {
        "id": "4bcutLLA_9IJ"
      },
      "execution_count": null,
      "outputs": []
    },
    {
      "cell_type": "code",
      "source": [
        "## Write a program that accepts a hash-separated sequence of words as input and prints the words in a hash-separated sequence after sorting them alphabetically in reverse order."
      ],
      "metadata": {
        "id": "9ACQbs-_ACE4"
      },
      "execution_count": null,
      "outputs": []
    },
    {
      "cell_type": "code",
      "source": [
        "L=sorted(input().split(\"#\"),reverse=True)\n",
        "print(\"#\".join(L),end=\"\")"
      ],
      "metadata": {
        "id": "kerKs17aALUj"
      },
      "execution_count": null,
      "outputs": []
    },
    {
      "cell_type": "code",
      "source": [
        "## Write a program which takes two integer a and b and prints all composite numbers between a and b. (both numbers are inclusive)\n"
      ],
      "metadata": {
        "id": "yP1B25x6ANst"
      },
      "execution_count": null,
      "outputs": []
    },
    {
      "cell_type": "code",
      "source": [
        "prime=[2, 3, 5, 7, 11, 13, 17, 19, 23, 29, 31, 37, 41, 43, 47, 53, \n",
        "       59, 61, 67, 71, 73, 79, 83, 89, 97, 101, 103, 107, 109, 113,\n",
        "       127, 131, 137, 139, 149, 151, 157, 163, 167, 173, 179, 181, \n",
        "       191, 193, 197, 199, 211, 223, 227, 229, 233, 239, 241, 251,\n",
        "       257, 263, 269, 271, 277, 281, 283, 293]\n",
        "a=int(input())\n",
        "b=int(input())\n",
        "for i in range(a,b+1):\n",
        "    if i not in prime:\n",
        "      print(i)"
      ],
      "metadata": {
        "id": "NCncVEdsAS6j"
      },
      "execution_count": null,
      "outputs": []
    },
    {
      "cell_type": "markdown",
      "source": [
        "## Week 12"
      ],
      "metadata": {
        "id": "_8QdbJBmvF8Y"
      }
    },
    {
      "cell_type": "code",
      "source": [
        "print(int(\"\".join(list(input())[::-1])),end=\"\")"
      ],
      "metadata": {
        "id": "a3nevIr0AVzN"
      },
      "execution_count": null,
      "outputs": []
    },
    {
      "cell_type": "code",
      "source": [
        "M=[i[::-1] for i in input().split()]\n",
        "print([i[::-1] for i in sorted(M)],end=\"\")"
      ],
      "metadata": {
        "id": "owlC_qd_vNC5"
      },
      "execution_count": null,
      "outputs": []
    },
    {
      "cell_type": "code",
      "source": [
        "email=input().split('@')\n",
        "print(email[0],email[1].split('.')[0],end=\"\")"
      ],
      "metadata": {
        "id": "GIgJJHCqvkBV"
      },
      "execution_count": null,
      "outputs": []
    }
  ]
}